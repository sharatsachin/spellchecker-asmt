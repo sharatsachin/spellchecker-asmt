{
 "cells": [
  {
   "cell_type": "markdown",
   "metadata": {},
   "source": [
    "# Solution 4"
   ]
  },
  {
   "cell_type": "markdown",
   "metadata": {},
   "source": [
    "## Spell Checking using the [SymSpell delete spell checking algorithm](https://github.com/wolfgarbe/SymSpell)"
   ]
  },
  {
   "cell_type": "markdown",
   "metadata": {},
   "source": [
    "### Importing the Python regex and collections libraries to extract words containing only alphabets from 'big.txt'"
   ]
  },
  {
   "cell_type": "code",
   "execution_count": 1,
   "metadata": {},
   "outputs": [],
   "source": [
    "import re\n",
    "from collections import Counter\n",
    "\n",
    "def words(text): return re.findall('[a-z]+', text.lower())\n",
    "\n",
    "DICT = dict(Counter(words(open('big.txt').read())))\n",
    "MAP1 = {}\n",
    "MAP2 = {}"
   ]
  },
  {
   "cell_type": "markdown",
   "metadata": {},
   "source": [
    "### Created a function to generate a set of all words obtained by deleting one character from the correction word"
   ]
  },
  {
   "cell_type": "code",
   "execution_count": 2,
   "metadata": {},
   "outputs": [],
   "source": [
    "def delete(word):\n",
    "    splits     = [(word[:i], word[i:]) for i in range(len(word) + 1)]\n",
    "    deletes    = [L + R[1:] for L, R in splits if R]\n",
    "    return set(deletes)"
   ]
  },
  {
   "cell_type": "markdown",
   "metadata": {},
   "source": [
    "### Created a function to populate the MAP1 and MAP2 dictionaries, which map words obtained by deleting 1/2 characters to their original words"
   ]
  },
  {
   "cell_type": "code",
   "execution_count": 3,
   "metadata": {},
   "outputs": [],
   "source": [
    "def populate(word):\n",
    "    set1 = delete(word)\n",
    "    set2 = set([e2 for e1 in set1 for e2 in delete(e1)])\n",
    "    for x in set1:\n",
    "        MAP1.setdefault(x,[]).append(word)\n",
    "    for x in set2:\n",
    "        MAP2.setdefault(x,[]).append(word)"
   ]
  },
  {
   "cell_type": "markdown",
   "metadata": {},
   "source": [
    "### Populating the MAP1 and MAP2 dictionaries"
   ]
  },
  {
   "cell_type": "code",
   "execution_count": 4,
   "metadata": {},
   "outputs": [],
   "source": [
    "for w in DICT.keys():\n",
    "    populate(w)"
   ]
  },
  {
   "cell_type": "markdown",
   "metadata": {},
   "source": [
    "### Creating the function to take input"
   ]
  },
  {
   "cell_type": "markdown",
   "metadata": {},
   "source": [
    "#### Here we are generating all the words obtainable by deleting one or two characters from the input word. Then we find the mapped list of the given words in the 'MAP1' and 'MAP2' dictionaries. Then we find the most common words from the aforementioned list."
   ]
  },
  {
   "cell_type": "code",
   "execution_count": 5,
   "metadata": {},
   "outputs": [],
   "source": [
    "def correction(inp):\n",
    "    a = None\n",
    "    b = None\n",
    "    if inp in DICT.keys():\n",
    "        return inp\n",
    "    s1 = list(delete(inp))+[inp]\n",
    "    s2 = []\n",
    "    for x in s1:\n",
    "        if x in MAP1.keys():\n",
    "            s2 += MAP1[x]\n",
    "    if len(s2):\n",
    "        a = max(s2, key=DICT.get)\n",
    "    \n",
    "    s1 = set(s1)\n",
    "    s2 = set([e2 for e1 in s1 for e2 in delete(e1)])\n",
    "    s3 = list(s1|s2)+[inp]\n",
    "    s4 = []\n",
    "    for x in s3:\n",
    "        if x in MAP2.keys():\n",
    "            s4 += MAP2[x]\n",
    "    if len(s4):\n",
    "        b = max(s4, key=DICT.get)\n",
    "    if a and a!=b:\n",
    "        return (a,b)\n",
    "    if b:\n",
    "        return b\n",
    "    else:\n",
    "        return 'No candidate found'"
   ]
  },
  {
   "cell_type": "markdown",
   "metadata": {},
   "source": [
    "### Testing the correction function (returns 1/2 candidate words or 'No candidate found' if nothing is found)"
   ]
  },
  {
   "cell_type": "code",
   "execution_count": 6,
   "metadata": {},
   "outputs": [
    {
     "data": {
      "text/plain": [
       "('whistle', 'little')"
      ]
     },
     "execution_count": 6,
     "metadata": {},
     "output_type": "execute_result"
    }
   ],
   "source": [
    "correction('wistle')"
   ]
  },
  {
   "cell_type": "code",
   "execution_count": 7,
   "metadata": {},
   "outputs": [
    {
     "data": {
      "text/plain": [
       "'ridiculous'"
      ]
     },
     "execution_count": 7,
     "metadata": {},
     "output_type": "execute_result"
    }
   ],
   "source": [
    "correction('redifulous')"
   ]
  },
  {
   "cell_type": "code",
   "execution_count": 8,
   "metadata": {},
   "outputs": [
    {
     "data": {
      "text/plain": [
       "'explicitly'"
      ]
     },
     "execution_count": 8,
     "metadata": {},
     "output_type": "execute_result"
    }
   ],
   "source": [
    "correction('explicitly')"
   ]
  },
  {
   "cell_type": "code",
   "execution_count": 9,
   "metadata": {},
   "outputs": [
    {
     "data": {
      "text/plain": [
       "'No candidate found'"
      ]
     },
     "execution_count": 9,
     "metadata": {},
     "output_type": "execute_result"
    }
   ],
   "source": [
    "correction('delinqent') # This is because the dictionary does not contain the word 'delinquent'"
   ]
  },
  {
   "cell_type": "code",
   "execution_count": 10,
   "metadata": {},
   "outputs": [
    {
     "data": {
      "text/plain": [
       "'envisagez'"
      ]
     },
     "execution_count": 10,
     "metadata": {},
     "output_type": "execute_result"
    }
   ],
   "source": [
    "correction('nistagez')"
   ]
  },
  {
   "cell_type": "code",
   "execution_count": 11,
   "metadata": {},
   "outputs": [
    {
     "data": {
      "text/plain": [
       "'mistakes'"
      ]
     },
     "execution_count": 11,
     "metadata": {},
     "output_type": "execute_result"
    }
   ],
   "source": [
    "correction('nistages')"
   ]
  },
  {
   "cell_type": "code",
   "execution_count": 12,
   "metadata": {},
   "outputs": [
    {
     "data": {
      "text/plain": [
       "'doings'"
      ]
     },
     "execution_count": 12,
     "metadata": {},
     "output_type": "execute_result"
    }
   ],
   "source": [
    "correction('dogsjh')"
   ]
  },
  {
   "cell_type": "code",
   "execution_count": 13,
   "metadata": {},
   "outputs": [
    {
     "data": {
      "text/plain": [
       "'No candidate found'"
      ]
     },
     "execution_count": 13,
     "metadata": {},
     "output_type": "execute_result"
    }
   ],
   "source": [
    "correction('preprocessdsj')"
   ]
  },
  {
   "cell_type": "code",
   "execution_count": null,
   "metadata": {},
   "outputs": [],
   "source": []
  }
 ],
 "metadata": {
  "kernelspec": {
   "display_name": "Python 3",
   "language": "python",
   "name": "python3"
  },
  "language_info": {
   "codemirror_mode": {
    "name": "ipython",
    "version": 3
   },
   "file_extension": ".py",
   "mimetype": "text/x-python",
   "name": "python",
   "nbconvert_exporter": "python",
   "pygments_lexer": "ipython3",
   "version": "3.7.3"
  }
 },
 "nbformat": 4,
 "nbformat_minor": 2
}
