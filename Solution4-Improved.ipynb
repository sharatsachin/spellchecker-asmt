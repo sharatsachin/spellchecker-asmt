{
 "cells": [
  {
   "cell_type": "markdown",
   "metadata": {},
   "source": [
    "# Solution 4 Improved"
   ]
  },
  {
   "cell_type": "markdown",
   "metadata": {},
   "source": [
    "## Spell Checking using the [SymSpell delete spell checking algorithm](https://github.com/wolfgarbe/SymSpell) (Implemented by myself)"
   ]
  },
  {
   "cell_type": "markdown",
   "metadata": {},
   "source": [
    "### Extract words from 'en_50k.txt' obtained from the [FrequencyWords](https://github.com/hermitdave/FrequencyWords/tree/master/content/2018/en) project and a list of common mispellings from [Wikipedia and Roger Mitton](https://norvig.com/ngrams/)"
   ]
  },
  {
   "cell_type": "code",
   "execution_count": 1,
   "metadata": {},
   "outputs": [],
   "source": [
    "DICT = {}\n",
    "with open('en_50k.txt', encoding=\"utf8\") as f:\n",
    "    content = f.readlines()\n",
    "content = [x.strip() for x in content]\n",
    "for x in content:\n",
    "    s,c = x.split()\n",
    "    DICT[s] = int(c)\n",
    "\n",
    "COMMON = {}\n",
    "with open('spell-errors.txt', encoding=\"utf8\") as f:\n",
    "    content = f.readlines()\n",
    "content = [x.strip() for x in content]\n",
    "for x in content:\n",
    "    sd,sl = x.split(':')\n",
    "    sl = sl.split(',')\n",
    "    for y in sl:\n",
    "        COMMON[y] = sd\n",
    "\n",
    "MAP1 = {}\n",
    "MAP2 = {}"
   ]
  },
  {
   "cell_type": "markdown",
   "metadata": {},
   "source": [
    "### Created a function to generate a set of all words obtained by deleting one character from the correction word"
   ]
  },
  {
   "cell_type": "code",
   "execution_count": 2,
   "metadata": {},
   "outputs": [],
   "source": [
    "def delete(word):\n",
    "    splits     = [(word[:i], word[i:]) for i in range(len(word) + 1)]\n",
    "    deletes    = [L + R[1:] for L, R in splits if R]\n",
    "    return set(deletes)"
   ]
  },
  {
   "cell_type": "markdown",
   "metadata": {},
   "source": [
    "### Created a function to populate the MAP1 and MAP2 dictionaries, which map words obtained by deleting 1/2 characters to their original words"
   ]
  },
  {
   "cell_type": "code",
   "execution_count": 3,
   "metadata": {},
   "outputs": [],
   "source": [
    "def populate(word):\n",
    "    set1 = delete(word)\n",
    "    set2 = set([e2 for e1 in set1 for e2 in delete(e1)])\n",
    "    for x in set1:\n",
    "        MAP1.setdefault(x,[]).append(word)\n",
    "    for x in set2:\n",
    "        MAP2.setdefault(x,[]).append(word)"
   ]
  },
  {
   "cell_type": "markdown",
   "metadata": {},
   "source": [
    "### Populating the MAP1 and MAP2 dictionaries"
   ]
  },
  {
   "cell_type": "code",
   "execution_count": 4,
   "metadata": {},
   "outputs": [],
   "source": [
    "for w in DICT.keys():\n",
    "    populate(w)"
   ]
  },
  {
   "cell_type": "markdown",
   "metadata": {},
   "source": [
    "### Creating the function to take input"
   ]
  },
  {
   "cell_type": "markdown",
   "metadata": {},
   "source": [
    "#### Here we are generating all the words obtainable by deleting one or two characters from the input word. Then we find the mapped list of the given words in the 'MAP1' and 'MAP2' dictionaries. Then we find the most common words from the aforementioned list."
   ]
  },
  {
   "cell_type": "code",
   "execution_count": 5,
   "metadata": {},
   "outputs": [],
   "source": [
    "def correction(inp):\n",
    "    a = None\n",
    "    b = None\n",
    "    if inp in COMMON.keys():\n",
    "        return COMMON[inp]\n",
    "    if inp in DICT.keys():\n",
    "        return inp\n",
    "    s1 = list(delete(inp))+[inp]\n",
    "    s2 = []\n",
    "    for x in s1:\n",
    "        if x in MAP1.keys():\n",
    "            s2 += MAP1[x]\n",
    "    if len(s2):\n",
    "        a = max(s2, key=DICT.get)\n",
    "        return a\n",
    "    \n",
    "    s1 = set(s1)\n",
    "    s2 = set([e2 for e1 in s1 for e2 in delete(e1)])\n",
    "    s3 = list(s1|s2)+[inp]\n",
    "    s4 = []\n",
    "    for x in s3:\n",
    "        if x in MAP2.keys():\n",
    "            s4 += MAP2[x]\n",
    "    if len(s4):\n",
    "        b = max(s4, key=DICT.get)\n",
    "        return b\n",
    "    \n",
    "    return inp"
   ]
  },
  {
   "cell_type": "markdown",
   "metadata": {},
   "source": [
    "### Testing the correction function (returns correction or the same word if nothing is found)"
   ]
  },
  {
   "cell_type": "code",
   "execution_count": 6,
   "metadata": {},
   "outputs": [
    {
     "name": "stdout",
     "output_type": "stream",
     "text": [
      "correction('wistle') -> whistle\n",
      "correction('redifulous') -> ridiculous\n",
      "correction('explicitly') -> explicitly\n",
      "correction('delinqent') -> delinquent\n",
      "correction('nistages') -> mistakes\n",
      "correction('preprocessdsj') -> preprocessdsj\n",
      "correction('dogsjh') -> doings\n"
     ]
    }
   ],
   "source": [
    "print(\"correction('wistle') ->\", correction('wistle'))\n",
    "print(\"correction('redifulous') ->\", correction('redifulous'))\n",
    "print(\"correction('explicitly') ->\", correction('explicitly'))\n",
    "print(\"correction('delinqent') ->\", correction('delinqent'))\n",
    "print(\"correction('nistages') ->\", correction('nistages'))\n",
    "print(\"correction('preprocessdsj') ->\", correction('preprocessdsj'))\n",
    "print(\"correction('dogsjh') ->\", correction('dogsjh'))"
   ]
  },
  {
   "cell_type": "markdown",
   "metadata": {},
   "source": [
    "### Return string with words in the same case as input"
   ]
  },
  {
   "cell_type": "code",
   "execution_count": 7,
   "metadata": {},
   "outputs": [],
   "source": [
    "import re\n",
    "\n",
    "def correct_text(text):\n",
    "    return re.sub('[a-zA-Z]+', correct_match, text)\n",
    "\n",
    "def correct_match(match):\n",
    "    word = match.group()\n",
    "    return case_of(word)(correction(word.lower()))\n",
    "\n",
    "def case_of(text):\n",
    "    return (str.upper if text.isupper() else\n",
    "            str.lower if text.islower() else\n",
    "            str.title if text.istitle() else str)"
   ]
  },
  {
   "cell_type": "markdown",
   "metadata": {},
   "source": [
    "### Testing of the correct_text function"
   ]
  },
  {
   "cell_type": "code",
   "execution_count": 8,
   "metadata": {},
   "outputs": [
    {
     "data": {
      "text/plain": [
       "'Spelling Errors IN something. Whatever; unusual mistakes?'"
      ]
     },
     "execution_count": 8,
     "metadata": {},
     "output_type": "execute_result"
    }
   ],
   "source": [
    "correct_text('Spellink Errurs IN somethink. Whutever; unusuel mistakez?')"
   ]
  },
  {
   "cell_type": "code",
   "execution_count": null,
   "metadata": {},
   "outputs": [],
   "source": []
  }
 ],
 "metadata": {
  "kernelspec": {
   "display_name": "Python 3",
   "language": "python",
   "name": "python3"
  },
  "language_info": {
   "codemirror_mode": {
    "name": "ipython",
    "version": 3
   },
   "file_extension": ".py",
   "mimetype": "text/x-python",
   "name": "python",
   "nbconvert_exporter": "python",
   "pygments_lexer": "ipython3",
   "version": "3.7.3"
  }
 },
 "nbformat": 4,
 "nbformat_minor": 2
}
